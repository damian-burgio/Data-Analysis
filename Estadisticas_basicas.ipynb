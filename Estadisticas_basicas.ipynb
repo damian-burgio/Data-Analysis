{
 "cells": [
  {
   "cell_type": "code",
   "execution_count": 51,
   "metadata": {},
   "outputs": [],
   "source": [
    "import pandas as pd"
   ]
  },
  {
   "cell_type": "code",
   "execution_count": 52,
   "metadata": {},
   "outputs": [],
   "source": [
    "import numpy as np"
   ]
  },
  {
   "cell_type": "code",
   "execution_count": 50,
   "metadata": {},
   "outputs": [],
   "source": [
    "import matplotlib.pyplot as plt\n",
    "%matplotlib inline"
   ]
  },
  {
   "cell_type": "code",
   "execution_count": 4,
   "metadata": {},
   "outputs": [],
   "source": [
    "# Formula: K − 273.15 =  °C\n",
    "datos = pd.read_csv('TM.txt', header=0, delim_whitespace=True)\n"
   ]
  },
  {
   "cell_type": "code",
   "execution_count": 5,
   "metadata": {},
   "outputs": [
    {
     "data": {
      "text/html": [
       "<div>\n",
       "<style scoped>\n",
       "    .dataframe tbody tr th:only-of-type {\n",
       "        vertical-align: middle;\n",
       "    }\n",
       "\n",
       "    .dataframe tbody tr th {\n",
       "        vertical-align: top;\n",
       "    }\n",
       "\n",
       "    .dataframe thead th {\n",
       "        text-align: right;\n",
       "    }\n",
       "</style>\n",
       "<table border=\"1\" class=\"dataframe\">\n",
       "  <thead>\n",
       "    <tr style=\"text-align: right;\">\n",
       "      <th></th>\n",
       "      <th>País</th>\n",
       "      <th>TP</th>\n",
       "      <th>Tmin</th>\n",
       "      <th>Tmax</th>\n",
       "      <th>Lluvia(mm)</th>\n",
       "    </tr>\n",
       "  </thead>\n",
       "  <tbody>\n",
       "    <tr>\n",
       "      <th>0</th>\n",
       "      <td>AFG</td>\n",
       "      <td>285.6</td>\n",
       "      <td>278.5</td>\n",
       "      <td>292.7</td>\n",
       "      <td>327</td>\n",
       "    </tr>\n",
       "    <tr>\n",
       "      <th>1</th>\n",
       "      <td>AGO</td>\n",
       "      <td>294.5</td>\n",
       "      <td>287.8</td>\n",
       "      <td>301.3</td>\n",
       "      <td>1010</td>\n",
       "    </tr>\n",
       "    <tr>\n",
       "      <th>2</th>\n",
       "      <td>AIA</td>\n",
       "      <td>298.6</td>\n",
       "      <td>294.7</td>\n",
       "      <td>302.5</td>\n",
       "      <td>1523</td>\n",
       "    </tr>\n",
       "    <tr>\n",
       "      <th>3</th>\n",
       "      <td>ALB</td>\n",
       "      <td>284.4</td>\n",
       "      <td>279.3</td>\n",
       "      <td>289.5</td>\n",
       "      <td>996</td>\n",
       "    </tr>\n",
       "    <tr>\n",
       "      <th>4</th>\n",
       "      <td>AND</td>\n",
       "      <td>280.6</td>\n",
       "      <td>275.9</td>\n",
       "      <td>285.3</td>\n",
       "      <td>973</td>\n",
       "    </tr>\n",
       "  </tbody>\n",
       "</table>\n",
       "</div>"
      ],
      "text/plain": [
       "  País     TP   Tmin   Tmax  Lluvia(mm)\n",
       "0  AFG  285.6  278.5  292.7         327\n",
       "1  AGO  294.5  287.8  301.3        1010\n",
       "2  AIA  298.6  294.7  302.5        1523\n",
       "3  ALB  284.4  279.3  289.5         996\n",
       "4  AND  280.6  275.9  285.3         973"
      ]
     },
     "execution_count": 5,
     "metadata": {},
     "output_type": "execute_result"
    }
   ],
   "source": [
    "datos.head()"
   ]
  },
  {
   "cell_type": "code",
   "execution_count": 12,
   "metadata": {},
   "outputs": [],
   "source": [
    "temp_promedio = datos.iloc[:,1]\n",
    "lluvias_mm = datos.iloc[:,4]"
   ]
  },
  {
   "cell_type": "code",
   "execution_count": 36,
   "metadata": {},
   "outputs": [
    {
     "data": {
      "text/plain": [
       "Text(0.5, 1.0, 'Relacion Entre Temperaturas Y Lluvias ')"
      ]
     },
     "execution_count": 36,
     "metadata": {},
     "output_type": "execute_result"
    },
    {
     "data": {
      "image/png": "[encoded data removed]",
      "text/plain": [
       "<Figure size 432x288 with 1 Axes>"
      ]
     },
     "metadata": {
      "needs_background": "light"
     },
     "output_type": "display_data"
    }
   ],
   "source": [
    "plt.plot(temp_promedio,lluvias_mm,'g*')\n",
    "plt.xlabel('Temperatura Promedio')\n",
    "plt.ylabel('Lluvias en mm')\n",
    "plt.title('Relacion Entre Temperaturas Y Lluvias ')"
   ]
  },
  {
   "cell_type": "code",
   "execution_count": 14,
   "metadata": {},
   "outputs": [
    {
     "data": {
      "text/plain": [
       "count     215.000000\n",
       "mean     1318.288372\n",
       "std       945.572343\n",
       "min         0.000000\n",
       "25%       604.000000\n",
       "50%      1130.000000\n",
       "75%      1968.000000\n",
       "max      7369.000000\n",
       "Name: Lluvia(mm), dtype: float64"
      ]
     },
     "execution_count": 14,
     "metadata": {},
     "output_type": "execute_result"
    }
   ],
   "source": [
    "#Estadisticas descriptivas sobre las precipitaciones\n",
    "lluvias_mm.describe()"
   ]
  },
  {
   "cell_type": "code",
   "execution_count": 15,
   "metadata": {},
   "outputs": [
    {
     "data": {
      "text/plain": [
       "count    215.000000\n",
       "mean     291.929767\n",
       "std        8.689630\n",
       "min      257.000000\n",
       "25%      284.450000\n",
       "50%      295.600000\n",
       "75%      298.600000\n",
       "max      301.200000\n",
       "Name: TP, dtype: float64"
      ]
     },
     "execution_count": 15,
     "metadata": {},
     "output_type": "execute_result"
    }
   ],
   "source": [
    "#Estadisticas descriptivas sobre las temperaturas\n",
    "temp_promedio.describe()"
   ]
  },
  {
   "cell_type": "code",
   "execution_count": 40,
   "metadata": {},
   "outputs": [],
   "source": [
    "nuevos_datos= datos.assign(TminC= datos['Tmin']-273.15)\n"
   ]
  },
  {
   "cell_type": "code",
   "execution_count": 41,
   "metadata": {},
   "outputs": [
    {
     "data": {
      "text/html": [
       "<div>\n",
       "<style scoped>\n",
       "    .dataframe tbody tr th:only-of-type {\n",
       "        vertical-align: middle;\n",
       "    }\n",
       "\n",
       "    .dataframe tbody tr th {\n",
       "        vertical-align: top;\n",
       "    }\n",
       "\n",
       "    .dataframe thead th {\n",
       "        text-align: right;\n",
       "    }\n",
       "</style>\n",
       "<table border=\"1\" class=\"dataframe\">\n",
       "  <thead>\n",
       "    <tr style=\"text-align: right;\">\n",
       "      <th></th>\n",
       "      <th>País</th>\n",
       "      <th>TP</th>\n",
       "      <th>Tmin</th>\n",
       "      <th>Tmax</th>\n",
       "      <th>Lluvia(mm)</th>\n",
       "      <th>TPC</th>\n",
       "      <th>TmaxC</th>\n",
       "      <th>TminC</th>\n",
       "    </tr>\n",
       "  </thead>\n",
       "  <tbody>\n",
       "    <tr>\n",
       "      <th>0</th>\n",
       "      <td>AFG</td>\n",
       "      <td>285.6</td>\n",
       "      <td>278.5</td>\n",
       "      <td>292.7</td>\n",
       "      <td>327</td>\n",
       "      <td>12.45</td>\n",
       "      <td>19.55</td>\n",
       "      <td>5.35</td>\n",
       "    </tr>\n",
       "    <tr>\n",
       "      <th>1</th>\n",
       "      <td>AGO</td>\n",
       "      <td>294.5</td>\n",
       "      <td>287.8</td>\n",
       "      <td>301.3</td>\n",
       "      <td>1010</td>\n",
       "      <td>21.35</td>\n",
       "      <td>28.15</td>\n",
       "      <td>14.65</td>\n",
       "    </tr>\n",
       "    <tr>\n",
       "      <th>2</th>\n",
       "      <td>AIA</td>\n",
       "      <td>298.6</td>\n",
       "      <td>294.7</td>\n",
       "      <td>302.5</td>\n",
       "      <td>1523</td>\n",
       "      <td>25.45</td>\n",
       "      <td>29.35</td>\n",
       "      <td>21.55</td>\n",
       "    </tr>\n",
       "    <tr>\n",
       "      <th>3</th>\n",
       "      <td>ALB</td>\n",
       "      <td>284.4</td>\n",
       "      <td>279.3</td>\n",
       "      <td>289.5</td>\n",
       "      <td>996</td>\n",
       "      <td>11.25</td>\n",
       "      <td>16.35</td>\n",
       "      <td>6.15</td>\n",
       "    </tr>\n",
       "    <tr>\n",
       "      <th>4</th>\n",
       "      <td>AND</td>\n",
       "      <td>280.6</td>\n",
       "      <td>275.9</td>\n",
       "      <td>285.3</td>\n",
       "      <td>973</td>\n",
       "      <td>7.45</td>\n",
       "      <td>12.15</td>\n",
       "      <td>2.75</td>\n",
       "    </tr>\n",
       "  </tbody>\n",
       "</table>\n",
       "</div>"
      ],
      "text/plain": [
       "  País     TP   Tmin   Tmax  Lluvia(mm)    TPC  TmaxC  TminC\n",
       "0  AFG  285.6  278.5  292.7         327  12.45  19.55   5.35\n",
       "1  AGO  294.5  287.8  301.3        1010  21.35  28.15  14.65\n",
       "2  AIA  298.6  294.7  302.5        1523  25.45  29.35  21.55\n",
       "3  ALB  284.4  279.3  289.5         996  11.25  16.35   6.15\n",
       "4  AND  280.6  275.9  285.3         973   7.45  12.15   2.75"
      ]
     },
     "execution_count": 41,
     "metadata": {},
     "output_type": "execute_result"
    }
   ],
   "source": [
    "nuevos_datos.head()"
   ]
  },
  {
   "cell_type": "code",
   "execution_count": 28,
   "metadata": {},
   "outputs": [],
   "source": [
    "nuevos_datos= datos.insert(5,'TmaxC', datos['Tmax']-273.15)\n"
   ]
  },
  {
   "cell_type": "code",
   "execution_count": 42,
   "metadata": {},
   "outputs": [
    {
     "data": {
      "text/html": [
       "<div>\n",
       "<style scoped>\n",
       "    .dataframe tbody tr th:only-of-type {\n",
       "        vertical-align: middle;\n",
       "    }\n",
       "\n",
       "    .dataframe tbody tr th {\n",
       "        vertical-align: top;\n",
       "    }\n",
       "\n",
       "    .dataframe thead th {\n",
       "        text-align: right;\n",
       "    }\n",
       "</style>\n",
       "<table border=\"1\" class=\"dataframe\">\n",
       "  <thead>\n",
       "    <tr style=\"text-align: right;\">\n",
       "      <th></th>\n",
       "      <th>País</th>\n",
       "      <th>TP</th>\n",
       "      <th>Tmin</th>\n",
       "      <th>Tmax</th>\n",
       "      <th>Lluvia(mm)</th>\n",
       "      <th>TPC</th>\n",
       "      <th>TmaxC</th>\n",
       "      <th>TminC</th>\n",
       "    </tr>\n",
       "  </thead>\n",
       "  <tbody>\n",
       "    <tr>\n",
       "      <th>0</th>\n",
       "      <td>AFG</td>\n",
       "      <td>285.6</td>\n",
       "      <td>278.5</td>\n",
       "      <td>292.7</td>\n",
       "      <td>327</td>\n",
       "      <td>12.45</td>\n",
       "      <td>19.55</td>\n",
       "      <td>5.35</td>\n",
       "    </tr>\n",
       "    <tr>\n",
       "      <th>1</th>\n",
       "      <td>AGO</td>\n",
       "      <td>294.5</td>\n",
       "      <td>287.8</td>\n",
       "      <td>301.3</td>\n",
       "      <td>1010</td>\n",
       "      <td>21.35</td>\n",
       "      <td>28.15</td>\n",
       "      <td>14.65</td>\n",
       "    </tr>\n",
       "    <tr>\n",
       "      <th>2</th>\n",
       "      <td>AIA</td>\n",
       "      <td>298.6</td>\n",
       "      <td>294.7</td>\n",
       "      <td>302.5</td>\n",
       "      <td>1523</td>\n",
       "      <td>25.45</td>\n",
       "      <td>29.35</td>\n",
       "      <td>21.55</td>\n",
       "    </tr>\n",
       "    <tr>\n",
       "      <th>3</th>\n",
       "      <td>ALB</td>\n",
       "      <td>284.4</td>\n",
       "      <td>279.3</td>\n",
       "      <td>289.5</td>\n",
       "      <td>996</td>\n",
       "      <td>11.25</td>\n",
       "      <td>16.35</td>\n",
       "      <td>6.15</td>\n",
       "    </tr>\n",
       "    <tr>\n",
       "      <th>4</th>\n",
       "      <td>AND</td>\n",
       "      <td>280.6</td>\n",
       "      <td>275.9</td>\n",
       "      <td>285.3</td>\n",
       "      <td>973</td>\n",
       "      <td>7.45</td>\n",
       "      <td>12.15</td>\n",
       "      <td>2.75</td>\n",
       "    </tr>\n",
       "  </tbody>\n",
       "</table>\n",
       "</div>"
      ],
      "text/plain": [
       "  País     TP   Tmin   Tmax  Lluvia(mm)    TPC  TmaxC  TminC\n",
       "0  AFG  285.6  278.5  292.7         327  12.45  19.55   5.35\n",
       "1  AGO  294.5  287.8  301.3        1010  21.35  28.15  14.65\n",
       "2  AIA  298.6  294.7  302.5        1523  25.45  29.35  21.55\n",
       "3  ALB  284.4  279.3  289.5         996  11.25  16.35   6.15\n",
       "4  AND  280.6  275.9  285.3         973   7.45  12.15   2.75"
      ]
     },
     "execution_count": 42,
     "metadata": {},
     "output_type": "execute_result"
    }
   ],
   "source": [
    "nuevos_datos.head()"
   ]
  },
  {
   "cell_type": "code",
   "execution_count": 38,
   "metadata": {},
   "outputs": [],
   "source": [
    "nuevos_datos= datos.insert(5,'TPC', datos['TP']-273.15)\n"
   ]
  },
  {
   "cell_type": "code",
   "execution_count": 44,
   "metadata": {},
   "outputs": [
    {
     "data": {
      "text/plain": [
       "-16.149999999999977"
      ]
     },
     "execution_count": 44,
     "metadata": {},
     "output_type": "execute_result"
    }
   ],
   "source": [
    "nuevos_datos['TPC'].min()"
   ]
  },
  {
   "cell_type": "code",
   "execution_count": 43,
   "metadata": {},
   "outputs": [
    {
     "data": {
      "text/plain": [
       "28.05000000000001"
      ]
     },
     "execution_count": 43,
     "metadata": {},
     "output_type": "execute_result"
    }
   ],
   "source": [
    "nuevos_datos['TPC'].max()"
   ]
  },
  {
   "cell_type": "code",
   "execution_count": 45,
   "metadata": {},
   "outputs": [
    {
     "data": {
      "text/plain": [
       "215"
      ]
     },
     "execution_count": 45,
     "metadata": {},
     "output_type": "execute_result"
    }
   ],
   "source": [
    "nuevos_datos['TPC'].count()"
   ]
  },
  {
   "cell_type": "code",
   "execution_count": null,
   "metadata": {},
   "outputs": [],
   "source": []
  },
  {
   "cell_type": "code",
   "execution_count": 81,
   "metadata": {},
   "outputs": [],
   "source": [
    "paises = list(nuevos_datos['País'])\n",
    "temp_prom_C = list(nuevos_datos['TPC'])\n",
    "temp_mean = np.mean(temp_prom_C)\n",
    "temp_max = max(temp_prom_C)\n"
   ]
  },
  {
   "cell_type": "code",
   "execution_count": 94,
   "metadata": {},
   "outputs": [
    {
     "data": {
      "text/plain": [
       "[Text(0.5, 0, 'Temperaturas Grados Centigrados'),\n",
       " Text(0, 0.5, 'Primeros Diez Paises'),\n",
       " Text(0.5, 1.0, 'Comparativa De Temperaturas')]"
      ]
     },
     "execution_count": 94,
     "metadata": {},
     "output_type": "execute_result"
    },
    {
     "data": {
      "image/png": "[encoded data removed]",
      "text/plain": [
       "<Figure size 640x480 with 1 Axes>"
      ]
     },
     "metadata": {},
     "output_type": "display_data"
    }
   ],
   "source": [
    "fig, ax = plt.subplots()\n",
    "ax.barh(paises[0:10], temp_prom_C[0:10])\n",
    "plt.style.use('classic')\n",
    "ax.axvline(temp_mean, ls='--', color='r')\n",
    "\n",
    "ax.axvline(temp_max, ls='--', color='b')\n",
    "\n",
    "\n",
    "ax.set(xlabel='Temperaturas Grados Centigrados', ylabel='Primeros Diez Paises',\n",
    "       title='Comparativa De Temperaturas')\n",
    "\n",
    "\n"
   ]
  },
  {
   "cell_type": "code",
   "execution_count": 95,
   "metadata": {},
   "outputs": [],
   "source": [
    "nuevos_datos.to_csv('comparativa_clima_mundial') "
   ]
  },
  {
   "cell_type": "code",
   "execution_count": null,
   "metadata": {},
   "outputs": [],
   "source": []
  }
 ],
 "metadata": {
  "kernelspec": {
   "display_name": "Python 3",
   "language": "python",
   "name": "python3"
  },
  "language_info": {
   "codemirror_mode": {
    "name": "ipython",
    "version": 3
   },
   "file_extension": ".py",
   "mimetype": "text/x-python",
   "name": "python",
   "nbconvert_exporter": "python",
   "pygments_lexer": "ipython3",
   "version": "3.8.5"
  }
 },
 "nbformat": 4,
 "nbformat_minor": 4
}
